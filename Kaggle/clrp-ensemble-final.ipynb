{
 "cells": [
  {
   "cell_type": "markdown",
   "id": "dried-bracelet",
   "metadata": {
    "papermill": {
     "duration": 0.027735,
     "end_time": "2021-07-26T11:31:41.327611",
     "exception": false,
     "start_time": "2021-07-26T11:31:41.299876",
     "status": "completed"
    },
    "tags": []
   },
   "source": [
    "# Overview\n",
    "\n",
    "This notebook combines three models."
   ]
  },
  {
   "cell_type": "code",
   "execution_count": 1,
   "id": "figured-advantage",
   "metadata": {
    "_kg_hide-input": true,
    "execution": {
     "iopub.execute_input": "2021-07-26T11:31:41.424376Z",
     "iopub.status.busy": "2021-07-26T11:31:41.423287Z",
     "iopub.status.idle": "2021-07-26T11:31:44.469788Z",
     "shell.execute_reply": "2021-07-26T11:31:44.469169Z",
     "shell.execute_reply.started": "2021-07-26T10:19:13.094981Z"
    },
    "papermill": {
     "duration": 3.104107,
     "end_time": "2021-07-26T11:31:44.469939",
     "exception": false,
     "start_time": "2021-07-26T11:31:41.365832",
     "status": "completed"
    },
    "tags": []
   },
   "outputs": [],
   "source": [
    "import os\n",
    "import math\n",
    "import random\n",
    "import time\n",
    "\n",
    "import numpy as np\n",
    "import pandas as pd\n",
    "from tqdm import tqdm\n",
    "\n",
    "import torch\n",
    "import torch.nn as nn\n",
    "from torch.utils.data import Dataset\n",
    "from torch.utils.data import DataLoader\n",
    "\n",
    "from transformers import AutoTokenizer\n",
    "from transformers import AutoModel\n",
    "from transformers import AutoConfig\n",
    "\n",
    "from sklearn.model_selection import KFold\n",
    "from sklearn.svm import SVR\n",
    "\n",
    "import gc\n",
    "gc.enable()"
   ]
  },
  {
   "cell_type": "code",
   "execution_count": 2,
   "id": "developing-review",
   "metadata": {
    "execution": {
     "iopub.execute_input": "2021-07-26T11:31:44.568726Z",
     "iopub.status.busy": "2021-07-26T11:31:44.568071Z",
     "iopub.status.idle": "2021-07-26T11:31:44.575265Z",
     "shell.execute_reply": "2021-07-26T11:31:44.574786Z",
     "shell.execute_reply.started": "2021-07-26T10:19:15.938167Z"
    },
    "papermill": {
     "duration": 0.083338,
     "end_time": "2021-07-26T11:31:44.575408",
     "exception": false,
     "start_time": "2021-07-26T11:31:44.492070",
     "status": "completed"
    },
    "tags": []
   },
   "outputs": [
    {
     "data": {
      "text/plain": [
       "'cuda'"
      ]
     },
     "execution_count": 2,
     "metadata": {},
     "output_type": "execute_result"
    }
   ],
   "source": [
    "BATCH_SIZE = 32\n",
    "MAX_LEN = 248\n",
    "EVAL_SCHEDULE = [(0.5, 16), (0.49, 8), (0.48, 4), (0.47, 2), (-1, 1)]\n",
    "ROBERTA_PATH = \"../input/roberta-transformers-pytorch/roberta-base\"\n",
    "TOKENIZER_PATH = \"../input/roberta-transformers-pytorch/roberta-base\"\n",
    "DEVICE = \"cuda\" if torch.cuda.is_available() else \"cpu\"\n",
    "\n",
    "DEVICE"
   ]
  },
  {
   "cell_type": "code",
   "execution_count": 3,
   "id": "abroad-stand",
   "metadata": {
    "execution": {
     "iopub.execute_input": "2021-07-26T11:31:44.629258Z",
     "iopub.status.busy": "2021-07-26T11:31:44.628591Z",
     "iopub.status.idle": "2021-07-26T11:31:44.644957Z",
     "shell.execute_reply": "2021-07-26T11:31:44.644416Z",
     "shell.execute_reply.started": "2021-07-26T10:19:16.007769Z"
    },
    "papermill": {
     "duration": 0.047023,
     "end_time": "2021-07-26T11:31:44.645126",
     "exception": false,
     "start_time": "2021-07-26T11:31:44.598103",
     "status": "completed"
    },
    "tags": []
   },
   "outputs": [],
   "source": [
    "test_df = pd.read_csv(\"/kaggle/input/commonlitreadabilityprize/test.csv\")\n",
    "submission_df = pd.read_csv(\"/kaggle/input/commonlitreadabilityprize/sample_submission.csv\")"
   ]
  },
  {
   "cell_type": "code",
   "execution_count": 4,
   "id": "increasing-gardening",
   "metadata": {
    "execution": {
     "iopub.execute_input": "2021-07-26T11:31:44.696988Z",
     "iopub.status.busy": "2021-07-26T11:31:44.696373Z",
     "iopub.status.idle": "2021-07-26T11:31:44.946250Z",
     "shell.execute_reply": "2021-07-26T11:31:44.945620Z",
     "shell.execute_reply.started": "2021-07-26T10:19:16.034354Z"
    },
    "papermill": {
     "duration": 0.277492,
     "end_time": "2021-07-26T11:31:44.946400",
     "exception": false,
     "start_time": "2021-07-26T11:31:44.668908",
     "status": "completed"
    },
    "tags": []
   },
   "outputs": [],
   "source": [
    "tokenizer = AutoTokenizer.from_pretrained(TOKENIZER_PATH)"
   ]
  },
  {
   "cell_type": "markdown",
   "id": "working-traveler",
   "metadata": {
    "papermill": {
     "duration": 0.024494,
     "end_time": "2021-07-26T11:31:44.997717",
     "exception": false,
     "start_time": "2021-07-26T11:31:44.973223",
     "status": "completed"
    },
    "tags": []
   },
   "source": [
    "# Dataset"
   ]
  },
  {
   "cell_type": "code",
   "execution_count": 5,
   "id": "professional-concrete",
   "metadata": {
    "execution": {
     "iopub.execute_input": "2021-07-26T11:31:45.053076Z",
     "iopub.status.busy": "2021-07-26T11:31:45.052367Z",
     "iopub.status.idle": "2021-07-26T11:31:45.055899Z",
     "shell.execute_reply": "2021-07-26T11:31:45.055427Z",
     "shell.execute_reply.started": "2021-07-26T10:19:16.263429Z"
    },
    "papermill": {
     "duration": 0.034631,
     "end_time": "2021-07-26T11:31:45.056030",
     "exception": false,
     "start_time": "2021-07-26T11:31:45.021399",
     "status": "completed"
    },
    "tags": []
   },
   "outputs": [],
   "source": [
    "class LitDataset(Dataset):\n",
    "    def __init__(self, df, inference_only=False):\n",
    "        super().__init__()\n",
    "\n",
    "        self.df = df        \n",
    "        self.inference_only = inference_only\n",
    "        self.text = df.excerpt.tolist()\n",
    "        #self.text = [text.replace(\"\\n\", \" \") for text in self.text]\n",
    "        \n",
    "        if not self.inference_only:\n",
    "            self.target = torch.tensor(df.target.values, dtype=torch.float32)        \n",
    "    \n",
    "        self.encoded = tokenizer.batch_encode_plus(\n",
    "            self.text,\n",
    "            padding = 'max_length',            \n",
    "            max_length = MAX_LEN,\n",
    "            truncation = True,\n",
    "            return_attention_mask=True\n",
    "        )        \n",
    " \n",
    "\n",
    "    def __len__(self):\n",
    "        return len(self.df)\n",
    "\n",
    "    \n",
    "    def __getitem__(self, index):        \n",
    "        input_ids = torch.tensor(self.encoded['input_ids'][index])\n",
    "        attention_mask = torch.tensor(self.encoded['attention_mask'][index])\n",
    "        \n",
    "        if self.inference_only:\n",
    "            return (input_ids, attention_mask)            \n",
    "        else:\n",
    "            target = self.target[index]\n",
    "            return (input_ids, attention_mask, target)"
   ]
  },
  {
   "cell_type": "markdown",
   "id": "subtle-reward",
   "metadata": {
    "papermill": {
     "duration": 0.024159,
     "end_time": "2021-07-26T11:31:45.106430",
     "exception": false,
     "start_time": "2021-07-26T11:31:45.082271",
     "status": "completed"
    },
    "tags": []
   },
   "source": [
    "# Model 1\n",
    "Inspired from: https://www.kaggle.com/maunish/clrp-roberta-svm"
   ]
  },
  {
   "cell_type": "code",
   "execution_count": 6,
   "id": "surface-bangkok",
   "metadata": {
    "execution": {
     "iopub.execute_input": "2021-07-26T11:31:45.161798Z",
     "iopub.status.busy": "2021-07-26T11:31:45.160947Z",
     "iopub.status.idle": "2021-07-26T11:31:45.164901Z",
     "shell.execute_reply": "2021-07-26T11:31:45.164429Z",
     "shell.execute_reply.started": "2021-07-26T10:19:16.274613Z"
    },
    "papermill": {
     "duration": 0.035,
     "end_time": "2021-07-26T11:31:45.165031",
     "exception": false,
     "start_time": "2021-07-26T11:31:45.130031",
     "status": "completed"
    },
    "tags": []
   },
   "outputs": [],
   "source": [
    "class LitModel(nn.Module):\n",
    "    def __init__(self):\n",
    "        super().__init__()\n",
    "\n",
    "        config = AutoConfig.from_pretrained(ROBERTA_PATH)\n",
    "        config.update({\"output_hidden_states\":True, \n",
    "                       \"hidden_dropout_prob\": 0.25,\n",
    "                       \"layer_norm_eps\": 1e-7})                       \n",
    "        \n",
    "        self.roberta = AutoModel.from_pretrained(ROBERTA_PATH, config=config)  \n",
    "            \n",
    "        self.attention = nn.Sequential(            \n",
    "            nn.Linear(768, 512),            \n",
    "            nn.Tanh(),                       \n",
    "            nn.Linear(512, 1),\n",
    "            nn.Softmax(dim=1)\n",
    "        )        \n",
    "\n",
    "        self.regressor = nn.Sequential(                        \n",
    "            nn.Linear(768, 1)                        \n",
    "        )\n",
    "        \n",
    "\n",
    "    def forward(self, input_ids, attention_mask):\n",
    "        roberta_output = self.roberta(input_ids=input_ids,\n",
    "                                      attention_mask=attention_mask)        \n",
    "\n",
    "        # There are a total of 13 layers of hidden states.\n",
    "        # 1 for the embedding layer, and 12 for the 12 Roberta layers.\n",
    "        # We take the hidden states from the last Roberta layer.\n",
    "        last_layer_hidden_states = roberta_output.hidden_states[-1]\n",
    "\n",
    "        # The number of cells is MAX_LEN.\n",
    "        # The size of the hidden state of each cell is 768 (for roberta-base).\n",
    "        # In order to condense hidden states of all cells to a context vector,\n",
    "        # we compute a weighted average of the hidden states of all cells.\n",
    "        # We compute the weight of each cell, using the attention neural network.\n",
    "        weights = self.attention(last_layer_hidden_states)\n",
    "                \n",
    "        # weights.shape is BATCH_SIZE x MAX_LEN x 1\n",
    "        # last_layer_hidden_states.shape is BATCH_SIZE x MAX_LEN x 768        \n",
    "        # Now we compute context_vector as the weighted average.\n",
    "        # context_vector.shape is BATCH_SIZE x 768\n",
    "        context_vector = torch.sum(weights * last_layer_hidden_states, dim=1)        \n",
    "        \n",
    "        # Now we reduce the context vector to the prediction score.\n",
    "        return self.regressor(context_vector)"
   ]
  },
  {
   "cell_type": "code",
   "execution_count": 7,
   "id": "caring-spank",
   "metadata": {
    "execution": {
     "iopub.execute_input": "2021-07-26T11:31:45.223278Z",
     "iopub.status.busy": "2021-07-26T11:31:45.222640Z",
     "iopub.status.idle": "2021-07-26T11:31:45.226586Z",
     "shell.execute_reply": "2021-07-26T11:31:45.226157Z",
     "shell.execute_reply.started": "2021-07-26T10:19:16.28672Z"
    },
    "papermill": {
     "duration": 0.034946,
     "end_time": "2021-07-26T11:31:45.226715",
     "exception": false,
     "start_time": "2021-07-26T11:31:45.191769",
     "status": "completed"
    },
    "tags": []
   },
   "outputs": [],
   "source": [
    "def predict(model, data_loader):\n",
    "    \"\"\"Returns an np.array with predictions of the |model| on |data_loader|\"\"\"\n",
    "    model.eval()\n",
    "\n",
    "    result = np.zeros(len(data_loader.dataset))    \n",
    "    index = 0\n",
    "    \n",
    "    with torch.no_grad():\n",
    "        for batch_num, (input_ids, attention_mask) in enumerate(data_loader):\n",
    "            input_ids = input_ids.to(DEVICE)\n",
    "            attention_mask = attention_mask.to(DEVICE)\n",
    "                        \n",
    "            pred = model(input_ids, attention_mask)                        \n",
    "\n",
    "            result[index : index + pred.shape[0]] = pred.flatten().to(\"cpu\")\n",
    "            index += pred.shape[0]\n",
    "\n",
    "    return result"
   ]
  },
  {
   "cell_type": "markdown",
   "id": "specialized-policy",
   "metadata": {
    "papermill": {
     "duration": 0.023046,
     "end_time": "2021-07-26T11:31:45.273589",
     "exception": false,
     "start_time": "2021-07-26T11:31:45.250543",
     "status": "completed"
    },
    "tags": []
   },
   "source": [
    "# Inference"
   ]
  },
  {
   "cell_type": "code",
   "execution_count": 8,
   "id": "varied-craps",
   "metadata": {
    "execution": {
     "iopub.execute_input": "2021-07-26T11:31:45.336231Z",
     "iopub.status.busy": "2021-07-26T11:31:45.335601Z",
     "iopub.status.idle": "2021-07-26T11:32:40.229772Z",
     "shell.execute_reply": "2021-07-26T11:32:40.229050Z",
     "shell.execute_reply.started": "2021-07-26T10:19:16.300042Z"
    },
    "papermill": {
     "duration": 54.930029,
     "end_time": "2021-07-26T11:32:40.229978",
     "exception": false,
     "start_time": "2021-07-26T11:31:45.299949",
     "status": "completed"
    },
    "tags": []
   },
   "outputs": [
    {
     "name": "stderr",
     "output_type": "stream",
     "text": [
      "  0%|          | 0/5 [00:00<?, ?it/s]"
     ]
    },
    {
     "name": "stdout",
     "output_type": "stream",
     "text": [
      "\n",
      "Using ../input/commonlit-roberta-0467/model_1.pth\n"
     ]
    },
    {
     "name": "stderr",
     "output_type": "stream",
     "text": [
      " 20%|██        | 1/5 [00:20<01:22, 20.59s/it]"
     ]
    },
    {
     "name": "stdout",
     "output_type": "stream",
     "text": [
      "\n",
      "Using ../input/commonlit-roberta-0467/model_2.pth\n"
     ]
    },
    {
     "name": "stderr",
     "output_type": "stream",
     "text": [
      " 40%|████      | 2/5 [00:29<00:41, 13.82s/it]"
     ]
    },
    {
     "name": "stdout",
     "output_type": "stream",
     "text": [
      "\n",
      "Using ../input/commonlit-roberta-0467/model_3.pth\n"
     ]
    },
    {
     "name": "stderr",
     "output_type": "stream",
     "text": [
      " 60%|██████    | 3/5 [00:38<00:22, 11.39s/it]"
     ]
    },
    {
     "name": "stdout",
     "output_type": "stream",
     "text": [
      "\n",
      "Using ../input/commonlit-roberta-0467/model_4.pth\n"
     ]
    },
    {
     "name": "stderr",
     "output_type": "stream",
     "text": [
      " 80%|████████  | 4/5 [00:46<00:10, 10.15s/it]"
     ]
    },
    {
     "name": "stdout",
     "output_type": "stream",
     "text": [
      "\n",
      "Using ../input/commonlit-roberta-0467/model_5.pth\n"
     ]
    },
    {
     "name": "stderr",
     "output_type": "stream",
     "text": [
      "100%|██████████| 5/5 [00:54<00:00, 10.97s/it]\n"
     ]
    }
   ],
   "source": [
    "NUM_MODELS = 5\n",
    "\n",
    "all_predictions = np.zeros((NUM_MODELS, len(test_df)))\n",
    "\n",
    "test_dataset = LitDataset(test_df, inference_only=True)\n",
    "\n",
    "test_loader = DataLoader(test_dataset, batch_size=BATCH_SIZE,\n",
    "                         drop_last=False, shuffle=False, num_workers=2)\n",
    "\n",
    "for model_index in tqdm(range(NUM_MODELS)):            \n",
    "    model_path = f\"../input/commonlit-roberta-0467/model_{model_index + 1}.pth\"\n",
    "    print(f\"\\nUsing {model_path}\")\n",
    "                        \n",
    "    model = LitModel()\n",
    "    model.load_state_dict(torch.load(model_path, map_location=DEVICE))    \n",
    "    model.to(DEVICE)\n",
    "        \n",
    "    all_predictions[model_index] = predict(model, test_loader)\n",
    "            \n",
    "    del model\n",
    "    gc.collect()"
   ]
  },
  {
   "cell_type": "code",
   "execution_count": 9,
   "id": "naughty-price",
   "metadata": {
    "execution": {
     "iopub.execute_input": "2021-07-26T11:32:40.313722Z",
     "iopub.status.busy": "2021-07-26T11:32:40.312764Z",
     "iopub.status.idle": "2021-07-26T11:32:40.316377Z",
     "shell.execute_reply": "2021-07-26T11:32:40.315851Z",
     "shell.execute_reply.started": "2021-07-26T10:20:11.793018Z"
    },
    "papermill": {
     "duration": 0.059493,
     "end_time": "2021-07-26T11:32:40.316520",
     "exception": false,
     "start_time": "2021-07-26T11:32:40.257027",
     "status": "completed"
    },
    "tags": []
   },
   "outputs": [],
   "source": [
    "model1_predictions = all_predictions.mean(axis=0)"
   ]
  },
  {
   "cell_type": "markdown",
   "id": "imperial-teaching",
   "metadata": {
    "papermill": {
     "duration": 0.026247,
     "end_time": "2021-07-26T11:32:40.372538",
     "exception": false,
     "start_time": "2021-07-26T11:32:40.346291",
     "status": "completed"
    },
    "tags": []
   },
   "source": [
    "# Model 2\n",
    "Inspired from: [https://www.kaggle.com/rhtsingh/commonlit-readability-prize-roberta-torch-infer-3](https://www.kaggle.com/rhtsingh/commonlit-readability-prize-roberta-torch-infer-3)"
   ]
  },
  {
   "cell_type": "code",
   "execution_count": 10,
   "id": "humanitarian-thong",
   "metadata": {
    "execution": {
     "iopub.execute_input": "2021-07-26T11:32:40.435507Z",
     "iopub.status.busy": "2021-07-26T11:32:40.434728Z",
     "iopub.status.idle": "2021-07-26T11:32:45.114862Z",
     "shell.execute_reply": "2021-07-26T11:32:45.114390Z",
     "shell.execute_reply.started": "2021-07-26T10:20:11.806069Z"
    },
    "papermill": {
     "duration": 4.716486,
     "end_time": "2021-07-26T11:32:45.115004",
     "exception": false,
     "start_time": "2021-07-26T11:32:40.398518",
     "status": "completed"
    },
    "tags": []
   },
   "outputs": [],
   "source": [
    "test = test_df\n",
    "\n",
    "from glob import glob\n",
    "import os\n",
    "import matplotlib.pyplot as plt\n",
    "import json\n",
    "from collections import defaultdict\n",
    "\n",
    "import torch\n",
    "import torch.nn as nn\n",
    "import torch.nn.functional as F\n",
    "import torch.optim as optim\n",
    "from torch.optim.optimizer import Optimizer\n",
    "import torch.optim.lr_scheduler as lr_scheduler\n",
    "from torch.utils.data import (\n",
    "    Dataset, DataLoader, \n",
    "    SequentialSampler, RandomSampler\n",
    ")\n",
    "from transformers import RobertaConfig\n",
    "from transformers import (\n",
    "    get_cosine_schedule_with_warmup, \n",
    "    get_cosine_with_hard_restarts_schedule_with_warmup\n",
    ")\n",
    "from transformers import RobertaTokenizer\n",
    "from transformers import RobertaModel\n",
    "from IPython.display import clear_output"
   ]
  },
  {
   "cell_type": "markdown",
   "id": "reduced-arena",
   "metadata": {
    "papermill": {
     "duration": 0.029895,
     "end_time": "2021-07-26T11:32:45.172186",
     "exception": false,
     "start_time": "2021-07-26T11:32:45.142291",
     "status": "completed"
    },
    "tags": []
   },
   "source": [
    "# Dataset"
   ]
  },
  {
   "cell_type": "code",
   "execution_count": 11,
   "id": "medieval-venue",
   "metadata": {
    "execution": {
     "iopub.execute_input": "2021-07-26T11:32:45.241066Z",
     "iopub.status.busy": "2021-07-26T11:32:45.239358Z",
     "iopub.status.idle": "2021-07-26T11:32:45.241859Z",
     "shell.execute_reply": "2021-07-26T11:32:45.242289Z",
     "shell.execute_reply.started": "2021-07-26T10:20:16.327817Z"
    },
    "papermill": {
     "duration": 0.042826,
     "end_time": "2021-07-26T11:32:45.242445",
     "exception": false,
     "start_time": "2021-07-26T11:32:45.199619",
     "status": "completed"
    },
    "tags": []
   },
   "outputs": [],
   "source": [
    "def convert_examples_to_features(data, tokenizer, max_len, is_test=False):\n",
    "    data = data.replace('\\n', '')\n",
    "    tok = tokenizer.encode_plus(\n",
    "        data, \n",
    "        max_length=max_len, \n",
    "        truncation=True,\n",
    "        return_attention_mask=True,\n",
    "        return_token_type_ids=True\n",
    "    )\n",
    "    curr_sent = {}\n",
    "    padding_length = max_len - len(tok['input_ids'])\n",
    "    curr_sent['input_ids'] = tok['input_ids'] + ([0] * padding_length)\n",
    "    curr_sent['token_type_ids'] = tok['token_type_ids'] + \\\n",
    "        ([0] * padding_length)\n",
    "    curr_sent['attention_mask'] = tok['attention_mask'] + \\\n",
    "        ([0] * padding_length)\n",
    "    return curr_sent\n",
    "\n",
    "class DatasetRetriever(Dataset):\n",
    "    def __init__(self, data, tokenizer, max_len, is_test=False):\n",
    "        self.data = data\n",
    "        self.excerpts = self.data.excerpt.values.tolist()\n",
    "        self.tokenizer = tokenizer\n",
    "        self.is_test = is_test\n",
    "        self.max_len = max_len\n",
    "    \n",
    "    def __len__(self):\n",
    "        return len(self.data)\n",
    "    \n",
    "    def __getitem__(self, item):\n",
    "        if not self.is_test:\n",
    "            excerpt, label = self.excerpts[item], self.targets[item]\n",
    "            features = convert_examples_to_features(\n",
    "                excerpt, self.tokenizer, \n",
    "                self.max_len, self.is_test\n",
    "            )\n",
    "            return {\n",
    "                'input_ids':torch.tensor(features['input_ids'], dtype=torch.long),\n",
    "                'token_type_ids':torch.tensor(features['token_type_ids'], dtype=torch.long),\n",
    "                'attention_mask':torch.tensor(features['attention_mask'], dtype=torch.long),\n",
    "                'label':torch.tensor(label, dtype=torch.double),\n",
    "            }\n",
    "        else:\n",
    "            excerpt = self.excerpts[item]\n",
    "            features = convert_examples_to_features(\n",
    "                excerpt, self.tokenizer, \n",
    "                self.max_len, self.is_test\n",
    "            )\n",
    "            return {\n",
    "                'input_ids':torch.tensor(features['input_ids'], dtype=torch.long),\n",
    "                'token_type_ids':torch.tensor(features['token_type_ids'], dtype=torch.long),\n",
    "                'attention_mask':torch.tensor(features['attention_mask'], dtype=torch.long),\n",
    "            }"
   ]
  },
  {
   "cell_type": "code",
   "execution_count": 12,
   "id": "amazing-lebanon",
   "metadata": {
    "execution": {
     "iopub.execute_input": "2021-07-26T11:32:45.316578Z",
     "iopub.status.busy": "2021-07-26T11:32:45.315560Z",
     "iopub.status.idle": "2021-07-26T11:32:45.317953Z",
     "shell.execute_reply": "2021-07-26T11:32:45.318381Z",
     "shell.execute_reply.started": "2021-07-26T10:20:16.344158Z"
    },
    "papermill": {
     "duration": 0.046669,
     "end_time": "2021-07-26T11:32:45.318537",
     "exception": false,
     "start_time": "2021-07-26T11:32:45.271868",
     "status": "completed"
    },
    "tags": []
   },
   "outputs": [],
   "source": [
    "class CommonLitModel(nn.Module):\n",
    "    def __init__(\n",
    "        self, \n",
    "        model_name, \n",
    "        config,  \n",
    "        multisample_dropout=False,\n",
    "        output_hidden_states=False\n",
    "    ):\n",
    "        \n",
    "        super(CommonLitModel, self).__init__()\n",
    "        self.config = config\n",
    "        self.roberta = RobertaModel.from_pretrained(\n",
    "            model_name, \n",
    "            output_hidden_states=output_hidden_states\n",
    "        )\n",
    "        \n",
    "        self.layer_norm = nn.LayerNorm(config.hidden_size)\n",
    "        \n",
    "        if multisample_dropout:\n",
    "            self.dropouts = nn.ModuleList([\n",
    "                nn.Dropout(0.5) for _ in range(5)\n",
    "            ])\n",
    "        else:\n",
    "            self.dropouts = nn.ModuleList([nn.Dropout(0.3)])\n",
    "            \n",
    "        self.regressor = nn.Linear(config.hidden_size, 1)\n",
    "        self._init_weights(self.layer_norm)\n",
    "        self._init_weights(self.regressor)\n",
    " \n",
    "    def _init_weights(self, module):\n",
    "        \n",
    "        if isinstance(module, nn.Linear):\n",
    "            module.weight.data.normal_(mean=0.0, std=self.config.initializer_range)\n",
    "            if module.bias is not None:\n",
    "                module.bias.data.zero_()\n",
    "                \n",
    "        elif isinstance(module, nn.Embedding):\n",
    "            module.weight.data.normal_(mean=0.0, std=self.config.initializer_range)\n",
    "            if module.padding_idx is not None:\n",
    "                module.weight.data[module.padding_idx].zero_()\n",
    "                \n",
    "        elif isinstance(module, nn.LayerNorm):\n",
    "            module.bias.data.zero_()\n",
    "            module.weight.data.fill_(1.0)\n",
    " \n",
    "    def forward(\n",
    "        self, \n",
    "        input_ids=None,\n",
    "        attention_mask=None,\n",
    "        token_type_ids=None,\n",
    "        labels=None\n",
    "    ):\n",
    "        outputs = self.roberta(\n",
    "            input_ids,\n",
    "            attention_mask=attention_mask,\n",
    "            token_type_ids=token_type_ids,\n",
    "        )\n",
    "        sequence_output = outputs[1]\n",
    "        sequence_output = self.layer_norm(sequence_output)\n",
    " \n",
    "        # multi-sample dropout\n",
    "        for i, dropout in enumerate(self.dropouts):\n",
    "            if i == 0:\n",
    "                logits = self.regressor(dropout(sequence_output))\n",
    "            else:\n",
    "                logits += self.regressor(dropout(sequence_output))\n",
    "        \n",
    "        logits /= len(self.dropouts)\n",
    " \n",
    "        # calculate loss\n",
    "        loss = None\n",
    "        \n",
    "        if labels is not None:\n",
    "            loss_fn = torch.nn.MSELoss()\n",
    "            logits = logits.view(-1).to(labels.dtype)\n",
    "            loss = torch.sqrt(loss_fn(logits, labels.view(-1)))\n",
    "        \n",
    "        output = (logits,) + outputs[1:]\n",
    "        return ((loss,) + output) if loss is not None else output"
   ]
  },
  {
   "cell_type": "code",
   "execution_count": 13,
   "id": "adjustable-former",
   "metadata": {
    "execution": {
     "iopub.execute_input": "2021-07-26T11:32:45.382440Z",
     "iopub.status.busy": "2021-07-26T11:32:45.381405Z",
     "iopub.status.idle": "2021-07-26T11:32:45.384358Z",
     "shell.execute_reply": "2021-07-26T11:32:45.383864Z",
     "shell.execute_reply.started": "2021-07-26T10:20:16.363581Z"
    },
    "papermill": {
     "duration": 0.039903,
     "end_time": "2021-07-26T11:32:45.384506",
     "exception": false,
     "start_time": "2021-07-26T11:32:45.344603",
     "status": "completed"
    },
    "tags": []
   },
   "outputs": [],
   "source": [
    "def make_model(model_name, num_labels=1):\n",
    "    tokenizer = RobertaTokenizer.from_pretrained(model_name)\n",
    "    config = RobertaConfig.from_pretrained(model_name)\n",
    "    config.update({'num_labels':num_labels})\n",
    "    model = CommonLitModel(model_name, config=config)\n",
    "    return model, tokenizer\n",
    "\n",
    "def make_loader(\n",
    "    data, \n",
    "    tokenizer, \n",
    "    max_len,\n",
    "    batch_size,\n",
    "):\n",
    "    \n",
    "    test_dataset = DatasetRetriever(data, tokenizer, max_len, is_test=True)\n",
    "    test_sampler = SequentialSampler(test_dataset)\n",
    "    \n",
    "    test_loader = DataLoader(\n",
    "        test_dataset, \n",
    "        batch_size=batch_size // 2, \n",
    "        sampler=test_sampler, \n",
    "        pin_memory=False, \n",
    "        drop_last=False, \n",
    "        num_workers=0\n",
    "    )\n",
    "\n",
    "    return test_loader"
   ]
  },
  {
   "cell_type": "code",
   "execution_count": 14,
   "id": "incredible-ordinary",
   "metadata": {
    "execution": {
     "iopub.execute_input": "2021-07-26T11:32:45.451718Z",
     "iopub.status.busy": "2021-07-26T11:32:45.450593Z",
     "iopub.status.idle": "2021-07-26T11:32:45.453513Z",
     "shell.execute_reply": "2021-07-26T11:32:45.453071Z",
     "shell.execute_reply.started": "2021-07-26T10:20:16.375424Z"
    },
    "papermill": {
     "duration": 0.042054,
     "end_time": "2021-07-26T11:32:45.453630",
     "exception": false,
     "start_time": "2021-07-26T11:32:45.411576",
     "status": "completed"
    },
    "tags": []
   },
   "outputs": [],
   "source": [
    "class Evaluator:\n",
    "    def __init__(self, model, scalar=None):\n",
    "        self.model = model\n",
    "        self.scalar = scalar\n",
    "\n",
    "    def evaluate(self, data_loader, tokenizer):\n",
    "        preds = []\n",
    "        self.model.eval()\n",
    "        total_loss = 0\n",
    "        with torch.no_grad():\n",
    "            for batch_idx, batch_data in enumerate(data_loader):\n",
    "                input_ids, attention_mask, token_type_ids = batch_data['input_ids'], \\\n",
    "                    batch_data['attention_mask'], batch_data['token_type_ids']\n",
    "                input_ids, attention_mask, token_type_ids = input_ids.cuda(), \\\n",
    "                    attention_mask.cuda(), token_type_ids.cuda()\n",
    "                \n",
    "                if self.scalar is not None:\n",
    "                    with torch.cuda.amp.autocast():\n",
    "                        outputs = self.model(\n",
    "                            input_ids=input_ids,\n",
    "                            attention_mask=attention_mask,\n",
    "                            token_type_ids=token_type_ids\n",
    "                        )\n",
    "                else:\n",
    "                    outputs = self.model(\n",
    "                        input_ids=input_ids,\n",
    "                        attention_mask=attention_mask,\n",
    "                        token_type_ids=token_type_ids\n",
    "                    )\n",
    "                \n",
    "                logits = outputs[0].detach().cpu().numpy().squeeze().tolist()\n",
    "                preds += logits\n",
    "        return preds\n",
    "\n",
    "def config(fold, model_name, load_model_path):\n",
    "    torch.manual_seed(2021)\n",
    "    torch.cuda.manual_seed(2021)\n",
    "    torch.cuda.manual_seed_all(2021)\n",
    "    \n",
    "    max_len = 250\n",
    "    batch_size = 8\n",
    "\n",
    "    model, tokenizer = make_model(\n",
    "        model_name=model_name, \n",
    "        num_labels=1\n",
    "    )\n",
    "    \n",
    "    model.load_state_dict(\n",
    "        torch.load(f'{load_model_path}/model{fold}.bin')\n",
    "    )\n",
    "    \n",
    "    test_loader = make_loader(\n",
    "        test, tokenizer, max_len=max_len,\n",
    "        batch_size=batch_size\n",
    "    )\n",
    "\n",
    "    if torch.cuda.device_count() >= 1:\n",
    "        print('Model pushed to {} GPU(s), type {}.'.format(\n",
    "            torch.cuda.device_count(), \n",
    "            torch.cuda.get_device_name(0))\n",
    "        )\n",
    "        model = model.cuda() \n",
    "    else:\n",
    "        raise ValueError('CPU training is not supported')\n",
    "\n",
    "    # scaler = torch.cuda.amp.GradScaler()\n",
    "    scaler = None\n",
    "    return (\n",
    "        model, tokenizer, \n",
    "        test_loader, scaler\n",
    "    )"
   ]
  },
  {
   "cell_type": "markdown",
   "id": "numerous-russell",
   "metadata": {
    "execution": {
     "iopub.execute_input": "2021-07-25T09:11:47.35772Z",
     "iopub.status.busy": "2021-07-25T09:11:47.357351Z",
     "iopub.status.idle": "2021-07-25T09:11:47.362915Z",
     "shell.execute_reply": "2021-07-25T09:11:47.361981Z",
     "shell.execute_reply.started": "2021-07-25T09:11:47.357634Z"
    },
    "papermill": {
     "duration": 0.028852,
     "end_time": "2021-07-26T11:32:45.511998",
     "exception": false,
     "start_time": "2021-07-26T11:32:45.483146",
     "status": "completed"
    },
    "tags": []
   },
   "source": [
    "# Inference"
   ]
  },
  {
   "cell_type": "code",
   "execution_count": 15,
   "id": "electric-bracelet",
   "metadata": {
    "execution": {
     "iopub.execute_input": "2021-07-26T11:32:45.572633Z",
     "iopub.status.busy": "2021-07-26T11:32:45.571623Z",
     "iopub.status.idle": "2021-07-26T11:32:45.574603Z",
     "shell.execute_reply": "2021-07-26T11:32:45.574133Z",
     "shell.execute_reply.started": "2021-07-26T10:20:16.391323Z"
    },
    "papermill": {
     "duration": 0.035889,
     "end_time": "2021-07-26T11:32:45.574735",
     "exception": false,
     "start_time": "2021-07-26T11:32:45.538846",
     "status": "completed"
    },
    "tags": []
   },
   "outputs": [],
   "source": [
    "def run(fold=0, model_name=None, load_model_path=None):\n",
    "    model, tokenizer, \\\n",
    "        test_loader, scaler = config(fold, model_name, load_model_path)\n",
    "    \n",
    "    import time\n",
    "\n",
    "    evaluator = Evaluator(model, scaler)\n",
    "\n",
    "    test_time_list = []\n",
    "\n",
    "    torch.cuda.synchronize()\n",
    "    tic1 = time.time()\n",
    "\n",
    "    preds = evaluator.evaluate(test_loader, tokenizer)\n",
    "\n",
    "    torch.cuda.synchronize()\n",
    "    tic2 = time.time() \n",
    "    test_time_list.append(tic2 - tic1)\n",
    "    \n",
    "    del model, tokenizer, test_loader, scaler\n",
    "    gc.collect()\n",
    "    torch.cuda.empty_cache()\n",
    "    \n",
    "    return preds"
   ]
  },
  {
   "cell_type": "code",
   "execution_count": 16,
   "id": "existing-presence",
   "metadata": {
    "execution": {
     "iopub.execute_input": "2021-07-26T11:32:45.639286Z",
     "iopub.status.busy": "2021-07-26T11:32:45.638525Z",
     "iopub.status.idle": "2021-07-26T11:37:32.110008Z",
     "shell.execute_reply": "2021-07-26T11:37:32.109503Z",
     "shell.execute_reply.started": "2021-07-26T10:20:16.402668Z"
    },
    "papermill": {
     "duration": 286.505334,
     "end_time": "2021-07-26T11:37:32.110166",
     "exception": false,
     "start_time": "2021-07-26T11:32:45.604832",
     "status": "completed"
    },
    "tags": []
   },
   "outputs": [
    {
     "name": "stderr",
     "output_type": "stream",
     "text": [
      "  0%|          | 0/5 [00:00<?, ?it/s]"
     ]
    },
    {
     "name": "stdout",
     "output_type": "stream",
     "text": [
      "Model pushed to 1 GPU(s), type Tesla P100-PCIE-16GB.\n",
      "Model pushed to 1 GPU(s), type Tesla P100-PCIE-16GB.\n",
      "Model pushed to 1 GPU(s), type Tesla P100-PCIE-16GB.\n"
     ]
    },
    {
     "name": "stderr",
     "output_type": "stream",
     "text": [
      " 20%|██        | 1/5 [01:09<04:37, 69.39s/it]"
     ]
    },
    {
     "name": "stdout",
     "output_type": "stream",
     "text": [
      "Model pushed to 1 GPU(s), type Tesla P100-PCIE-16GB.\n",
      "Model pushed to 1 GPU(s), type Tesla P100-PCIE-16GB.\n",
      "Model pushed to 1 GPU(s), type Tesla P100-PCIE-16GB.\n"
     ]
    },
    {
     "name": "stderr",
     "output_type": "stream",
     "text": [
      " 40%|████      | 2/5 [02:04<03:03, 61.01s/it]"
     ]
    },
    {
     "name": "stdout",
     "output_type": "stream",
     "text": [
      "Model pushed to 1 GPU(s), type Tesla P100-PCIE-16GB.\n",
      "Model pushed to 1 GPU(s), type Tesla P100-PCIE-16GB.\n",
      "Model pushed to 1 GPU(s), type Tesla P100-PCIE-16GB.\n"
     ]
    },
    {
     "name": "stderr",
     "output_type": "stream",
     "text": [
      " 60%|██████    | 3/5 [02:59<01:56, 58.19s/it]"
     ]
    },
    {
     "name": "stdout",
     "output_type": "stream",
     "text": [
      "Model pushed to 1 GPU(s), type Tesla P100-PCIE-16GB.\n",
      "Model pushed to 1 GPU(s), type Tesla P100-PCIE-16GB.\n",
      "Model pushed to 1 GPU(s), type Tesla P100-PCIE-16GB.\n"
     ]
    },
    {
     "name": "stderr",
     "output_type": "stream",
     "text": [
      " 80%|████████  | 4/5 [03:53<00:56, 56.43s/it]"
     ]
    },
    {
     "name": "stdout",
     "output_type": "stream",
     "text": [
      "Model pushed to 1 GPU(s), type Tesla P100-PCIE-16GB.\n",
      "Model pushed to 1 GPU(s), type Tesla P100-PCIE-16GB.\n",
      "Model pushed to 1 GPU(s), type Tesla P100-PCIE-16GB.\n"
     ]
    },
    {
     "name": "stderr",
     "output_type": "stream",
     "text": [
      "100%|██████████| 5/5 [04:46<00:00, 57.29s/it]\n"
     ]
    }
   ],
   "source": [
    "pred_df1 = pd.DataFrame()\n",
    "pred_df2 = pd.DataFrame()\n",
    "pred_df3 = pd.DataFrame()\n",
    "\n",
    "for fold in tqdm(range(5)):\n",
    "    pred_df1[f'fold{fold}'] = run(fold%5, '../input/roberta-transformers-pytorch/roberta-base/', '../input/commonlit-roberta-base-i/')\n",
    "    pred_df2[f'fold{fold+5}'] = run(fold%5, '../input/roberta-transformers-pytorch/roberta-large', '../input/roberta-large-itptfit/')\n",
    "    pred_df3[f'fold{fold+10}'] = run(fold%5, '../input/roberta-transformers-pytorch/roberta-large', '../input/commonlit-roberta-large-ii/')"
   ]
  },
  {
   "cell_type": "code",
   "execution_count": 17,
   "id": "purple-marks",
   "metadata": {
    "execution": {
     "iopub.execute_input": "2021-07-26T11:37:32.190931Z",
     "iopub.status.busy": "2021-07-26T11:37:32.190355Z",
     "iopub.status.idle": "2021-07-26T11:37:32.194663Z",
     "shell.execute_reply": "2021-07-26T11:37:32.194199Z",
     "shell.execute_reply.started": "2021-07-26T10:24:59.400215Z"
    },
    "papermill": {
     "duration": 0.047114,
     "end_time": "2021-07-26T11:37:32.194781",
     "exception": false,
     "start_time": "2021-07-26T11:37:32.147667",
     "status": "completed"
    },
    "tags": []
   },
   "outputs": [],
   "source": [
    "pred_df1 = np.array(pred_df1)\n",
    "pred_df2 = np.array(pred_df2)\n",
    "pred_df3 = np.array(pred_df3)\n",
    "\n",
    "model2_predictions = (pred_df2.mean(axis=1) * 0.5) + (pred_df1.mean(axis=1) * 0.3) + (pred_df3.mean(axis=1) * 0.2)"
   ]
  },
  {
   "cell_type": "markdown",
   "id": "mechanical-capacity",
   "metadata": {
    "papermill": {
     "duration": 0.035222,
     "end_time": "2021-07-26T11:37:32.266160",
     "exception": false,
     "start_time": "2021-07-26T11:37:32.230938",
     "status": "completed"
    },
    "tags": []
   },
   "source": [
    "## Model 3 \n",
    "\n",
    "Inspired from: https://www.kaggle.com/jcesquiveld/best-transformer-representations"
   ]
  },
  {
   "cell_type": "code",
   "execution_count": 18,
   "id": "drawn-artwork",
   "metadata": {
    "execution": {
     "iopub.execute_input": "2021-07-26T11:37:32.343239Z",
     "iopub.status.busy": "2021-07-26T11:37:32.342425Z",
     "iopub.status.idle": "2021-07-26T11:37:32.483479Z",
     "shell.execute_reply": "2021-07-26T11:37:32.482944Z",
     "shell.execute_reply.started": "2021-07-26T10:24:59.409884Z"
    },
    "papermill": {
     "duration": 0.183788,
     "end_time": "2021-07-26T11:37:32.483618",
     "exception": false,
     "start_time": "2021-07-26T11:37:32.299830",
     "status": "completed"
    },
    "tags": []
   },
   "outputs": [],
   "source": [
    "import os\n",
    "import numpy as np\n",
    "import pandas as pd\n",
    "import random\n",
    "\n",
    "from transformers import AutoConfig, AutoModel, AutoTokenizer, AdamW, get_linear_schedule_with_warmup, logging\n",
    "\n",
    "import torch\n",
    "import torch.nn as nn\n",
    "import torch.nn.functional as F\n",
    "from torch.utils.data import Dataset, TensorDataset, SequentialSampler, RandomSampler, DataLoader\n",
    "\n",
    "from tqdm.notebook import tqdm\n",
    "\n",
    "import gc; gc.enable()\n",
    "from IPython.display import clear_output\n",
    "\n",
    "from sklearn.model_selection import StratifiedKFold\n",
    "import matplotlib.pyplot as plt\n",
    "import seaborn as sns\n",
    "\n",
    "sns.set_style('whitegrid')\n",
    "logging.set_verbosity_error()"
   ]
  },
  {
   "cell_type": "code",
   "execution_count": 19,
   "id": "aquatic-terrain",
   "metadata": {
    "execution": {
     "iopub.execute_input": "2021-07-26T11:37:32.560182Z",
     "iopub.status.busy": "2021-07-26T11:37:32.559545Z",
     "iopub.status.idle": "2021-07-26T11:37:32.570847Z",
     "shell.execute_reply": "2021-07-26T11:37:32.570340Z",
     "shell.execute_reply.started": "2021-07-26T10:24:59.512404Z"
    },
    "papermill": {
     "duration": 0.054224,
     "end_time": "2021-07-26T11:37:32.570986",
     "exception": false,
     "start_time": "2021-07-26T11:37:32.516762",
     "status": "completed"
    },
    "tags": []
   },
   "outputs": [],
   "source": [
    "INPUT_DIR = '../input/commonlitreadabilityprize'\n",
    "MODEL_DIR = '../input/roberta-transformers-pytorch/roberta-large'\n",
    "CHECKPOINT_DIR = '../input/clrp-mean-pooling/'\n",
    "\n",
    "DEVICE = torch.device('cuda' if torch.cuda.is_available() else 'cpu')\n",
    "\n",
    "MAX_LENGTH = 248\n",
    "TEST_BATCH_SIZE = 1\n",
    "HIDDEN_SIZE = 1024\n",
    "\n",
    "NUM_FOLDS = 5\n",
    "SEEDS = [113]\n",
    "\n",
    "test = pd.read_csv(os.path.join(INPUT_DIR, 'test.csv'))"
   ]
  },
  {
   "cell_type": "code",
   "execution_count": 20,
   "id": "formed-render",
   "metadata": {
    "execution": {
     "iopub.execute_input": "2021-07-26T11:37:32.649156Z",
     "iopub.status.busy": "2021-07-26T11:37:32.647450Z",
     "iopub.status.idle": "2021-07-26T11:37:32.649787Z",
     "shell.execute_reply": "2021-07-26T11:37:32.650206Z",
     "shell.execute_reply.started": "2021-07-26T10:24:59.525006Z"
    },
    "papermill": {
     "duration": 0.045317,
     "end_time": "2021-07-26T11:37:32.650347",
     "exception": false,
     "start_time": "2021-07-26T11:37:32.605030",
     "status": "completed"
    },
    "tags": []
   },
   "outputs": [],
   "source": [
    "class MeanPoolingModel(nn.Module):\n",
    "    \n",
    "    def __init__(self, model_name):\n",
    "        super().__init__()\n",
    "        \n",
    "        config = AutoConfig.from_pretrained(model_name)\n",
    "        self.model = AutoModel.from_pretrained(model_name, config=config)\n",
    "        self.linear = nn.Linear(HIDDEN_SIZE, 1)\n",
    "        self.loss = nn.MSELoss()\n",
    "        \n",
    "    def forward(self, input_ids, attention_mask, labels=None):\n",
    "        \n",
    "        outputs = self.model(input_ids, attention_mask)\n",
    "        last_hidden_state = outputs[0]\n",
    "        input_mask_expanded = attention_mask.unsqueeze(-1).expand(last_hidden_state.size()).float()\n",
    "        sum_embeddings = torch.sum(last_hidden_state * input_mask_expanded, 1)\n",
    "        sum_mask = input_mask_expanded.sum(1)\n",
    "        sum_mask = torch.clamp(sum_mask, min=1e-9)\n",
    "        mean_embeddings = sum_embeddings / sum_mask\n",
    "        logits = self.linear(mean_embeddings)\n",
    "        \n",
    "        preds = logits.squeeze(-1).squeeze(-1)\n",
    "        \n",
    "        if labels is not None:\n",
    "            loss = self.loss(preds.view(-1).float(), labels.view(-1).float())\n",
    "            return loss\n",
    "        else:\n",
    "            return preds"
   ]
  },
  {
   "cell_type": "code",
   "execution_count": 21,
   "id": "tested-columbus",
   "metadata": {
    "execution": {
     "iopub.execute_input": "2021-07-26T11:37:32.728615Z",
     "iopub.status.busy": "2021-07-26T11:37:32.728014Z",
     "iopub.status.idle": "2021-07-26T11:37:32.912783Z",
     "shell.execute_reply": "2021-07-26T11:37:32.912142Z",
     "shell.execute_reply.started": "2021-07-26T10:24:59.536456Z"
    },
    "papermill": {
     "duration": 0.225197,
     "end_time": "2021-07-26T11:37:32.912916",
     "exception": false,
     "start_time": "2021-07-26T11:37:32.687719",
     "status": "completed"
    },
    "tags": []
   },
   "outputs": [],
   "source": [
    "def get_test_loader(data):\n",
    "\n",
    "    x_test = data.excerpt.tolist()\n",
    "    \n",
    "    tokenizer = AutoTokenizer.from_pretrained(MODEL_DIR)\n",
    "\n",
    "    encoded_test = tokenizer.batch_encode_plus(\n",
    "        x_test, \n",
    "        add_special_tokens=True, \n",
    "        return_attention_mask=True, \n",
    "        padding='max_length', \n",
    "        truncation=True,\n",
    "        max_length=MAX_LENGTH, \n",
    "        return_tensors='pt'\n",
    "    )\n",
    "\n",
    "    dataset_test = TensorDataset(\n",
    "        encoded_test['input_ids'],\n",
    "        encoded_test['attention_mask']\n",
    "    )\n",
    "\n",
    "    dataloader_test = DataLoader(\n",
    "        dataset_test,\n",
    "        sampler = SequentialSampler(dataset_test),\n",
    "        batch_size=TEST_BATCH_SIZE\n",
    "    )\n",
    "    \n",
    "    return dataloader_test\n",
    "\n",
    "test_dataloader = get_test_loader(test)"
   ]
  },
  {
   "cell_type": "code",
   "execution_count": 22,
   "id": "honey-disclaimer",
   "metadata": {
    "execution": {
     "iopub.execute_input": "2021-07-26T11:37:32.983262Z",
     "iopub.status.busy": "2021-07-26T11:37:32.982339Z",
     "iopub.status.idle": "2021-07-26T11:39:25.265665Z",
     "shell.execute_reply": "2021-07-26T11:39:25.265167Z",
     "shell.execute_reply.started": "2021-07-26T10:24:59.713252Z"
    },
    "papermill": {
     "duration": 112.319872,
     "end_time": "2021-07-26T11:39:25.265811",
     "exception": false,
     "start_time": "2021-07-26T11:37:32.945939",
     "status": "completed"
    },
    "tags": []
   },
   "outputs": [
    {
     "data": {
      "application/vnd.jupyter.widget-view+json": {
       "model_id": "d7d8480eaa4949da983fc12acc6b22d8",
       "version_major": 2,
       "version_minor": 0
      },
      "text/plain": [
       "  0%|          | 0/5 [00:00<?, ?it/s]"
      ]
     },
     "metadata": {},
     "output_type": "display_data"
    },
    {
     "name": "stdout",
     "output_type": "stream",
     "text": [
      "\n",
      "Using model_114_1.pth\n",
      "\n",
      "Using model_114_2.pth\n",
      "\n",
      "Using model_114_3.pth\n",
      "\n",
      "Using model_114_4.pth\n",
      "\n",
      "Using model_114_5.pth\n"
     ]
    }
   ],
   "source": [
    "all_predictions = []\n",
    "for seed in SEEDS:\n",
    "    \n",
    "    fold_predictions = []\n",
    "    \n",
    "    for fold in tqdm(range(NUM_FOLDS)):\n",
    "        model_path = f\"model_{seed + 1}_{fold + 1}.pth\"\n",
    "        \n",
    "        print(f\"\\nUsing {model_path}\")\n",
    "        \n",
    "        model_path = CHECKPOINT_DIR + f\"model_{seed + 1}_{fold + 1}.pth\"\n",
    "        model = MeanPoolingModel(MODEL_DIR)\n",
    "        model.load_state_dict(torch.load(model_path)) \n",
    "        model.to(DEVICE)\n",
    "        model.eval()\n",
    "\n",
    "        predictions = []\n",
    "        for batch in test_dataloader:\n",
    "\n",
    "            batch = tuple(b.to(DEVICE) for b in batch)\n",
    "\n",
    "            inputs = {'input_ids':      batch[0],\n",
    "                      'attention_mask': batch[1],\n",
    "                      'labels':         None,\n",
    "                     }\n",
    "\n",
    "     \n",
    "            preds = model(**inputs).item()\n",
    "            predictions.append(preds)\n",
    "            \n",
    "        del model \n",
    "        gc.collect()\n",
    "            \n",
    "        fold_predictions.append(predictions)\n",
    "    all_predictions.append(np.mean(fold_predictions, axis=0).tolist())\n",
    "    \n",
    "model3_predictions = np.mean(all_predictions,axis=0)"
   ]
  },
  {
   "cell_type": "code",
   "execution_count": 23,
   "id": "conventional-advance",
   "metadata": {
    "execution": {
     "iopub.execute_input": "2021-07-26T11:39:25.341421Z",
     "iopub.status.busy": "2021-07-26T11:39:25.340582Z",
     "iopub.status.idle": "2021-07-26T11:39:25.346221Z",
     "shell.execute_reply": "2021-07-26T11:39:25.345754Z",
     "shell.execute_reply.started": "2021-07-26T10:26:53.183406Z"
    },
    "papermill": {
     "duration": 0.044698,
     "end_time": "2021-07-26T11:39:25.346354",
     "exception": false,
     "start_time": "2021-07-26T11:39:25.301656",
     "status": "completed"
    },
    "tags": []
   },
   "outputs": [
    {
     "data": {
      "text/plain": [
       "array([-0.42321754, -0.54561382, -0.41600394, -2.40391073, -1.78379554,\n",
       "       -1.24673323,  0.09879467])"
      ]
     },
     "execution_count": 23,
     "metadata": {},
     "output_type": "execute_result"
    }
   ],
   "source": [
    "predictions = model1_predictions * 0.4 + model2_predictions * 0.3 + model3_predictions * 0.3 \n",
    "predictions"
   ]
  },
  {
   "cell_type": "code",
   "execution_count": 24,
   "id": "scenic-province",
   "metadata": {
    "execution": {
     "iopub.execute_input": "2021-07-26T11:39:25.505566Z",
     "iopub.status.busy": "2021-07-26T11:39:25.504370Z",
     "iopub.status.idle": "2021-07-26T11:39:25.522722Z",
     "shell.execute_reply": "2021-07-26T11:39:25.523188Z",
     "shell.execute_reply.started": "2021-07-26T10:26:53.193686Z"
    },
    "papermill": {
     "duration": 0.110725,
     "end_time": "2021-07-26T11:39:25.523349",
     "exception": false,
     "start_time": "2021-07-26T11:39:25.412624",
     "status": "completed"
    },
    "tags": []
   },
   "outputs": [
    {
     "data": {
      "text/html": [
       "<div>\n",
       "<style scoped>\n",
       "    .dataframe tbody tr th:only-of-type {\n",
       "        vertical-align: middle;\n",
       "    }\n",
       "\n",
       "    .dataframe tbody tr th {\n",
       "        vertical-align: top;\n",
       "    }\n",
       "\n",
       "    .dataframe thead th {\n",
       "        text-align: right;\n",
       "    }\n",
       "</style>\n",
       "<table border=\"1\" class=\"dataframe\">\n",
       "  <thead>\n",
       "    <tr style=\"text-align: right;\">\n",
       "      <th></th>\n",
       "      <th>model1</th>\n",
       "      <th>model2</th>\n",
       "      <th>model3</th>\n",
       "      <th>ensemble</th>\n",
       "    </tr>\n",
       "  </thead>\n",
       "  <tbody>\n",
       "    <tr>\n",
       "      <th>0</th>\n",
       "      <td>-0.437155</td>\n",
       "      <td>-0.424239</td>\n",
       "      <td>-0.403613</td>\n",
       "      <td>-0.423218</td>\n",
       "    </tr>\n",
       "    <tr>\n",
       "      <th>1</th>\n",
       "      <td>-0.656492</td>\n",
       "      <td>-0.552417</td>\n",
       "      <td>-0.390972</td>\n",
       "      <td>-0.545614</td>\n",
       "    </tr>\n",
       "    <tr>\n",
       "      <th>2</th>\n",
       "      <td>-0.354968</td>\n",
       "      <td>-0.480693</td>\n",
       "      <td>-0.432696</td>\n",
       "      <td>-0.416004</td>\n",
       "    </tr>\n",
       "    <tr>\n",
       "      <th>3</th>\n",
       "      <td>-2.515151</td>\n",
       "      <td>-2.409766</td>\n",
       "      <td>-2.249735</td>\n",
       "      <td>-2.403911</td>\n",
       "    </tr>\n",
       "    <tr>\n",
       "      <th>4</th>\n",
       "      <td>-1.678813</td>\n",
       "      <td>-1.869201</td>\n",
       "      <td>-1.838367</td>\n",
       "      <td>-1.783796</td>\n",
       "    </tr>\n",
       "    <tr>\n",
       "      <th>5</th>\n",
       "      <td>-1.427003</td>\n",
       "      <td>-1.139890</td>\n",
       "      <td>-1.113217</td>\n",
       "      <td>-1.246733</td>\n",
       "    </tr>\n",
       "    <tr>\n",
       "      <th>6</th>\n",
       "      <td>0.050763</td>\n",
       "      <td>0.154946</td>\n",
       "      <td>0.106686</td>\n",
       "      <td>0.098795</td>\n",
       "    </tr>\n",
       "  </tbody>\n",
       "</table>\n",
       "</div>"
      ],
      "text/plain": [
       "     model1    model2    model3  ensemble\n",
       "0 -0.437155 -0.424239 -0.403613 -0.423218\n",
       "1 -0.656492 -0.552417 -0.390972 -0.545614\n",
       "2 -0.354968 -0.480693 -0.432696 -0.416004\n",
       "3 -2.515151 -2.409766 -2.249735 -2.403911\n",
       "4 -1.678813 -1.869201 -1.838367 -1.783796\n",
       "5 -1.427003 -1.139890 -1.113217 -1.246733\n",
       "6  0.050763  0.154946  0.106686  0.098795"
      ]
     },
     "execution_count": 24,
     "metadata": {},
     "output_type": "execute_result"
    }
   ],
   "source": [
    "results = pd.DataFrame(np.vstack((model1_predictions, model2_predictions, model3_predictions, predictions)).transpose(), \n",
    "                       columns=['model1','model2','model3','ensemble'])\n",
    "\n",
    "results"
   ]
  },
  {
   "cell_type": "code",
   "execution_count": 25,
   "id": "virtual-opera",
   "metadata": {
    "execution": {
     "iopub.execute_input": "2021-07-26T11:39:25.660137Z",
     "iopub.status.busy": "2021-07-26T11:39:25.659316Z",
     "iopub.status.idle": "2021-07-26T11:39:25.670758Z",
     "shell.execute_reply": "2021-07-26T11:39:25.671746Z",
     "shell.execute_reply.started": "2021-07-26T10:26:53.216096Z"
    },
    "papermill": {
     "duration": 0.084458,
     "end_time": "2021-07-26T11:39:25.671945",
     "exception": false,
     "start_time": "2021-07-26T11:39:25.587487",
     "status": "completed"
    },
    "tags": []
   },
   "outputs": [
    {
     "data": {
      "text/html": [
       "<div>\n",
       "<style scoped>\n",
       "    .dataframe tbody tr th:only-of-type {\n",
       "        vertical-align: middle;\n",
       "    }\n",
       "\n",
       "    .dataframe tbody tr th {\n",
       "        vertical-align: top;\n",
       "    }\n",
       "\n",
       "    .dataframe thead th {\n",
       "        text-align: right;\n",
       "    }\n",
       "</style>\n",
       "<table border=\"1\" class=\"dataframe\">\n",
       "  <thead>\n",
       "    <tr style=\"text-align: right;\">\n",
       "      <th></th>\n",
       "      <th>id</th>\n",
       "      <th>target</th>\n",
       "    </tr>\n",
       "  </thead>\n",
       "  <tbody>\n",
       "    <tr>\n",
       "      <th>0</th>\n",
       "      <td>c0f722661</td>\n",
       "      <td>-0.423218</td>\n",
       "    </tr>\n",
       "    <tr>\n",
       "      <th>1</th>\n",
       "      <td>f0953f0a5</td>\n",
       "      <td>-0.545614</td>\n",
       "    </tr>\n",
       "    <tr>\n",
       "      <th>2</th>\n",
       "      <td>0df072751</td>\n",
       "      <td>-0.416004</td>\n",
       "    </tr>\n",
       "    <tr>\n",
       "      <th>3</th>\n",
       "      <td>04caf4e0c</td>\n",
       "      <td>-2.403911</td>\n",
       "    </tr>\n",
       "    <tr>\n",
       "      <th>4</th>\n",
       "      <td>0e63f8bea</td>\n",
       "      <td>-1.783796</td>\n",
       "    </tr>\n",
       "    <tr>\n",
       "      <th>5</th>\n",
       "      <td>12537fe78</td>\n",
       "      <td>-1.246733</td>\n",
       "    </tr>\n",
       "    <tr>\n",
       "      <th>6</th>\n",
       "      <td>965e592c0</td>\n",
       "      <td>0.098795</td>\n",
       "    </tr>\n",
       "  </tbody>\n",
       "</table>\n",
       "</div>"
      ],
      "text/plain": [
       "          id    target\n",
       "0  c0f722661 -0.423218\n",
       "1  f0953f0a5 -0.545614\n",
       "2  0df072751 -0.416004\n",
       "3  04caf4e0c -2.403911\n",
       "4  0e63f8bea -1.783796\n",
       "5  12537fe78 -1.246733\n",
       "6  965e592c0  0.098795"
      ]
     },
     "execution_count": 25,
     "metadata": {},
     "output_type": "execute_result"
    }
   ],
   "source": [
    "submission_df.target = predictions\n",
    "submission_df"
   ]
  },
  {
   "cell_type": "code",
   "execution_count": 26,
   "id": "included-amazon",
   "metadata": {
    "execution": {
     "iopub.execute_input": "2021-07-26T11:39:25.820903Z",
     "iopub.status.busy": "2021-07-26T11:39:25.819930Z",
     "iopub.status.idle": "2021-07-26T11:39:26.336156Z",
     "shell.execute_reply": "2021-07-26T11:39:26.335543Z",
     "shell.execute_reply.started": "2021-07-26T10:26:53.228645Z"
    },
    "papermill": {
     "duration": 0.589048,
     "end_time": "2021-07-26T11:39:26.336296",
     "exception": false,
     "start_time": "2021-07-26T11:39:25.747248",
     "status": "completed"
    },
    "tags": []
   },
   "outputs": [],
   "source": [
    "submission_df.to_csv(\"submission.csv\", index=False)"
   ]
  }
 ],
 "metadata": {
  "kernelspec": {
   "display_name": "Python 3",
   "language": "python",
   "name": "python3"
  },
  "language_info": {
   "codemirror_mode": {
    "name": "ipython",
    "version": 3
   },
   "file_extension": ".py",
   "mimetype": "text/x-python",
   "name": "python",
   "nbconvert_exporter": "python",
   "pygments_lexer": "ipython3",
   "version": "3.7.10"
  },
  "papermill": {
   "default_parameters": {},
   "duration": 474.877905,
   "end_time": "2021-07-26T11:39:29.009146",
   "environment_variables": {},
   "exception": null,
   "input_path": "__notebook__.ipynb",
   "output_path": "__notebook__.ipynb",
   "parameters": {},
   "start_time": "2021-07-26T11:31:34.131241",
   "version": "2.3.3"
  },
  "widgets": {
   "application/vnd.jupyter.widget-state+json": {
    "state": {
     "0a29f4e376b743d0ad20013d7c270c09": {
      "model_module": "@jupyter-widgets/controls",
      "model_module_version": "1.5.0",
      "model_name": "HTMLModel",
      "state": {
       "_dom_classes": [],
       "_model_module": "@jupyter-widgets/controls",
       "_model_module_version": "1.5.0",
       "_model_name": "HTMLModel",
       "_view_count": null,
       "_view_module": "@jupyter-widgets/controls",
       "_view_module_version": "1.5.0",
       "_view_name": "HTMLView",
       "description": "",
       "description_tooltip": null,
       "layout": "IPY_MODEL_346bbac163974eb2bc0fd65e52eca4fa",
       "placeholder": "​",
       "style": "IPY_MODEL_39f2429ab5fd4a78a52c0658e92957b1",
       "value": " 5/5 [01:52&lt;00:00, 22.24s/it]"
      }
     },
     "346bbac163974eb2bc0fd65e52eca4fa": {
      "model_module": "@jupyter-widgets/base",
      "model_module_version": "1.2.0",
      "model_name": "LayoutModel",
      "state": {
       "_model_module": "@jupyter-widgets/base",
       "_model_module_version": "1.2.0",
       "_model_name": "LayoutModel",
       "_view_count": null,
       "_view_module": "@jupyter-widgets/base",
       "_view_module_version": "1.2.0",
       "_view_name": "LayoutView",
       "align_content": null,
       "align_items": null,
       "align_self": null,
       "border": null,
       "bottom": null,
       "display": null,
       "flex": null,
       "flex_flow": null,
       "grid_area": null,
       "grid_auto_columns": null,
       "grid_auto_flow": null,
       "grid_auto_rows": null,
       "grid_column": null,
       "grid_gap": null,
       "grid_row": null,
       "grid_template_areas": null,
       "grid_template_columns": null,
       "grid_template_rows": null,
       "height": null,
       "justify_content": null,
       "justify_items": null,
       "left": null,
       "margin": null,
       "max_height": null,
       "max_width": null,
       "min_height": null,
       "min_width": null,
       "object_fit": null,
       "object_position": null,
       "order": null,
       "overflow": null,
       "overflow_x": null,
       "overflow_y": null,
       "padding": null,
       "right": null,
       "top": null,
       "visibility": null,
       "width": null
      }
     },
     "39f2429ab5fd4a78a52c0658e92957b1": {
      "model_module": "@jupyter-widgets/controls",
      "model_module_version": "1.5.0",
      "model_name": "DescriptionStyleModel",
      "state": {
       "_model_module": "@jupyter-widgets/controls",
       "_model_module_version": "1.5.0",
       "_model_name": "DescriptionStyleModel",
       "_view_count": null,
       "_view_module": "@jupyter-widgets/base",
       "_view_module_version": "1.2.0",
       "_view_name": "StyleView",
       "description_width": ""
      }
     },
     "480dda4c13314fce910915e332c3a75c": {
      "model_module": "@jupyter-widgets/base",
      "model_module_version": "1.2.0",
      "model_name": "LayoutModel",
      "state": {
       "_model_module": "@jupyter-widgets/base",
       "_model_module_version": "1.2.0",
       "_model_name": "LayoutModel",
       "_view_count": null,
       "_view_module": "@jupyter-widgets/base",
       "_view_module_version": "1.2.0",
       "_view_name": "LayoutView",
       "align_content": null,
       "align_items": null,
       "align_self": null,
       "border": null,
       "bottom": null,
       "display": null,
       "flex": null,
       "flex_flow": null,
       "grid_area": null,
       "grid_auto_columns": null,
       "grid_auto_flow": null,
       "grid_auto_rows": null,
       "grid_column": null,
       "grid_gap": null,
       "grid_row": null,
       "grid_template_areas": null,
       "grid_template_columns": null,
       "grid_template_rows": null,
       "height": null,
       "justify_content": null,
       "justify_items": null,
       "left": null,
       "margin": null,
       "max_height": null,
       "max_width": null,
       "min_height": null,
       "min_width": null,
       "object_fit": null,
       "object_position": null,
       "order": null,
       "overflow": null,
       "overflow_x": null,
       "overflow_y": null,
       "padding": null,
       "right": null,
       "top": null,
       "visibility": null,
       "width": null
      }
     },
     "6cc1ab259aef471489c4660360871717": {
      "model_module": "@jupyter-widgets/controls",
      "model_module_version": "1.5.0",
      "model_name": "ProgressStyleModel",
      "state": {
       "_model_module": "@jupyter-widgets/controls",
       "_model_module_version": "1.5.0",
       "_model_name": "ProgressStyleModel",
       "_view_count": null,
       "_view_module": "@jupyter-widgets/base",
       "_view_module_version": "1.2.0",
       "_view_name": "StyleView",
       "bar_color": null,
       "description_width": ""
      }
     },
     "7cc18769f8174cc09f4b74a045a74dda": {
      "model_module": "@jupyter-widgets/base",
      "model_module_version": "1.2.0",
      "model_name": "LayoutModel",
      "state": {
       "_model_module": "@jupyter-widgets/base",
       "_model_module_version": "1.2.0",
       "_model_name": "LayoutModel",
       "_view_count": null,
       "_view_module": "@jupyter-widgets/base",
       "_view_module_version": "1.2.0",
       "_view_name": "LayoutView",
       "align_content": null,
       "align_items": null,
       "align_self": null,
       "border": null,
       "bottom": null,
       "display": null,
       "flex": null,
       "flex_flow": null,
       "grid_area": null,
       "grid_auto_columns": null,
       "grid_auto_flow": null,
       "grid_auto_rows": null,
       "grid_column": null,
       "grid_gap": null,
       "grid_row": null,
       "grid_template_areas": null,
       "grid_template_columns": null,
       "grid_template_rows": null,
       "height": null,
       "justify_content": null,
       "justify_items": null,
       "left": null,
       "margin": null,
       "max_height": null,
       "max_width": null,
       "min_height": null,
       "min_width": null,
       "object_fit": null,
       "object_position": null,
       "order": null,
       "overflow": null,
       "overflow_x": null,
       "overflow_y": null,
       "padding": null,
       "right": null,
       "top": null,
       "visibility": null,
       "width": null
      }
     },
     "837844661edf41bfaa2ba81a6939d855": {
      "model_module": "@jupyter-widgets/controls",
      "model_module_version": "1.5.0",
      "model_name": "DescriptionStyleModel",
      "state": {
       "_model_module": "@jupyter-widgets/controls",
       "_model_module_version": "1.5.0",
       "_model_name": "DescriptionStyleModel",
       "_view_count": null,
       "_view_module": "@jupyter-widgets/base",
       "_view_module_version": "1.2.0",
       "_view_name": "StyleView",
       "description_width": ""
      }
     },
     "9d7e4546f121444e8540fb275d33a8c4": {
      "model_module": "@jupyter-widgets/controls",
      "model_module_version": "1.5.0",
      "model_name": "HTMLModel",
      "state": {
       "_dom_classes": [],
       "_model_module": "@jupyter-widgets/controls",
       "_model_module_version": "1.5.0",
       "_model_name": "HTMLModel",
       "_view_count": null,
       "_view_module": "@jupyter-widgets/controls",
       "_view_module_version": "1.5.0",
       "_view_name": "HTMLView",
       "description": "",
       "description_tooltip": null,
       "layout": "IPY_MODEL_480dda4c13314fce910915e332c3a75c",
       "placeholder": "​",
       "style": "IPY_MODEL_837844661edf41bfaa2ba81a6939d855",
       "value": "100%"
      }
     },
     "cf6cc7b189ba4a3bab144ffe6db6e7c0": {
      "model_module": "@jupyter-widgets/controls",
      "model_module_version": "1.5.0",
      "model_name": "FloatProgressModel",
      "state": {
       "_dom_classes": [],
       "_model_module": "@jupyter-widgets/controls",
       "_model_module_version": "1.5.0",
       "_model_name": "FloatProgressModel",
       "_view_count": null,
       "_view_module": "@jupyter-widgets/controls",
       "_view_module_version": "1.5.0",
       "_view_name": "ProgressView",
       "bar_style": "success",
       "description": "",
       "description_tooltip": null,
       "layout": "IPY_MODEL_7cc18769f8174cc09f4b74a045a74dda",
       "max": 5.0,
       "min": 0.0,
       "orientation": "horizontal",
       "style": "IPY_MODEL_6cc1ab259aef471489c4660360871717",
       "value": 5.0
      }
     },
     "d7d8480eaa4949da983fc12acc6b22d8": {
      "model_module": "@jupyter-widgets/controls",
      "model_module_version": "1.5.0",
      "model_name": "HBoxModel",
      "state": {
       "_dom_classes": [],
       "_model_module": "@jupyter-widgets/controls",
       "_model_module_version": "1.5.0",
       "_model_name": "HBoxModel",
       "_view_count": null,
       "_view_module": "@jupyter-widgets/controls",
       "_view_module_version": "1.5.0",
       "_view_name": "HBoxView",
       "box_style": "",
       "children": [
        "IPY_MODEL_9d7e4546f121444e8540fb275d33a8c4",
        "IPY_MODEL_cf6cc7b189ba4a3bab144ffe6db6e7c0",
        "IPY_MODEL_0a29f4e376b743d0ad20013d7c270c09"
       ],
       "layout": "IPY_MODEL_e0544d353aa14e6e9264ef93502fe7ba"
      }
     },
     "e0544d353aa14e6e9264ef93502fe7ba": {
      "model_module": "@jupyter-widgets/base",
      "model_module_version": "1.2.0",
      "model_name": "LayoutModel",
      "state": {
       "_model_module": "@jupyter-widgets/base",
       "_model_module_version": "1.2.0",
       "_model_name": "LayoutModel",
       "_view_count": null,
       "_view_module": "@jupyter-widgets/base",
       "_view_module_version": "1.2.0",
       "_view_name": "LayoutView",
       "align_content": null,
       "align_items": null,
       "align_self": null,
       "border": null,
       "bottom": null,
       "display": null,
       "flex": null,
       "flex_flow": null,
       "grid_area": null,
       "grid_auto_columns": null,
       "grid_auto_flow": null,
       "grid_auto_rows": null,
       "grid_column": null,
       "grid_gap": null,
       "grid_row": null,
       "grid_template_areas": null,
       "grid_template_columns": null,
       "grid_template_rows": null,
       "height": null,
       "justify_content": null,
       "justify_items": null,
       "left": null,
       "margin": null,
       "max_height": null,
       "max_width": null,
       "min_height": null,
       "min_width": null,
       "object_fit": null,
       "object_position": null,
       "order": null,
       "overflow": null,
       "overflow_x": null,
       "overflow_y": null,
       "padding": null,
       "right": null,
       "top": null,
       "visibility": null,
       "width": null
      }
     }
    },
    "version_major": 2,
    "version_minor": 0
   }
  }
 },
 "nbformat": 4,
 "nbformat_minor": 5
}
